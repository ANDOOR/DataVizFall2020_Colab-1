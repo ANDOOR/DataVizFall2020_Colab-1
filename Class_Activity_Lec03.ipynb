{
  "nbformat": 4,
  "nbformat_minor": 0,
  "metadata": {
    "colab": {
      "name": "Class_Activity_Lec03.ipynb",
      "provenance": [],
      "collapsed_sections": [],
      "toc_visible": true,
      "include_colab_link": true
    },
    "kernelspec": {
      "name": "python3",
      "display_name": "Python 3"
    }
  },
  "cells": [
    {
      "cell_type": "markdown",
      "metadata": {
        "id": "view-in-github",
        "colab_type": "text"
      },
      "source": [
        "<a href=\"https://colab.research.google.com/github/pardeep0161/DataVizFall2020_Colab/blob/master/Class_Activity_Lec03.ipynb\" target=\"_parent\"><img src=\"https://colab.research.google.com/assets/colab-badge.svg\" alt=\"Open In Colab\"/></a>"
      ]
    },
    {
      "cell_type": "markdown",
      "metadata": {
        "id": "Byjnt3sW70g2",
        "colab_type": "text"
      },
      "source": [
        "# Visualize New York times database for COVID-19\n",
        "## Case study Bristol and Suffolk, MA"
      ]
    },
    {
      "cell_type": "markdown",
      "metadata": {
        "id": "-yRKZ88f8Eit",
        "colab_type": "text"
      },
      "source": [
        "## Loading US County Level Data"
      ]
    },
    {
      "cell_type": "code",
      "metadata": {
        "id": "FmC4_RXYRmTQ",
        "colab_type": "code",
        "colab": {}
      },
      "source": [
        "import pandas as pd\n",
        "import matplotlib.pyplot as plt"
      ],
      "execution_count": 141,
      "outputs": []
    },
    {
      "cell_type": "code",
      "metadata": {
        "id": "Zx2TID5Q79vH",
        "colab_type": "code",
        "colab": {}
      },
      "source": [
        "# https://github.com/nytimes/covid-19-data repository location\n",
        "db = \"https://raw.githubusercontent.com/nytimes/covid-19-data/master/us-counties.csv\"\n",
        "## loading data into dataframe\n",
        "df = pd.read_csv(db)\n",
        "df['date'] = df['date'].astype('datetime64[ns]') "
      ],
      "execution_count": 142,
      "outputs": []
    },
    {
      "cell_type": "markdown",
      "metadata": {
        "id": "Qmo3W6WqZc-o",
        "colab_type": "text"
      },
      "source": [
        "# Explore data"
      ]
    },
    {
      "cell_type": "code",
      "metadata": {
        "id": "1LFMv0CP7vf_",
        "colab_type": "code",
        "colab": {
          "base_uri": "https://localhost:8080/",
          "height": 204
        },
        "outputId": "722ae4b8-6e85-43fb-dbd0-ec0ae94d7c51"
      },
      "source": [
        "df.head(5)"
      ],
      "execution_count": 143,
      "outputs": [
        {
          "output_type": "execute_result",
          "data": {
            "text/html": [
              "<div>\n",
              "<style scoped>\n",
              "    .dataframe tbody tr th:only-of-type {\n",
              "        vertical-align: middle;\n",
              "    }\n",
              "\n",
              "    .dataframe tbody tr th {\n",
              "        vertical-align: top;\n",
              "    }\n",
              "\n",
              "    .dataframe thead th {\n",
              "        text-align: right;\n",
              "    }\n",
              "</style>\n",
              "<table border=\"1\" class=\"dataframe\">\n",
              "  <thead>\n",
              "    <tr style=\"text-align: right;\">\n",
              "      <th></th>\n",
              "      <th>date</th>\n",
              "      <th>county</th>\n",
              "      <th>state</th>\n",
              "      <th>fips</th>\n",
              "      <th>cases</th>\n",
              "      <th>deaths</th>\n",
              "    </tr>\n",
              "  </thead>\n",
              "  <tbody>\n",
              "    <tr>\n",
              "      <th>0</th>\n",
              "      <td>2020-01-21</td>\n",
              "      <td>Snohomish</td>\n",
              "      <td>Washington</td>\n",
              "      <td>53061.0</td>\n",
              "      <td>1</td>\n",
              "      <td>0</td>\n",
              "    </tr>\n",
              "    <tr>\n",
              "      <th>1</th>\n",
              "      <td>2020-01-22</td>\n",
              "      <td>Snohomish</td>\n",
              "      <td>Washington</td>\n",
              "      <td>53061.0</td>\n",
              "      <td>1</td>\n",
              "      <td>0</td>\n",
              "    </tr>\n",
              "    <tr>\n",
              "      <th>2</th>\n",
              "      <td>2020-01-23</td>\n",
              "      <td>Snohomish</td>\n",
              "      <td>Washington</td>\n",
              "      <td>53061.0</td>\n",
              "      <td>1</td>\n",
              "      <td>0</td>\n",
              "    </tr>\n",
              "    <tr>\n",
              "      <th>3</th>\n",
              "      <td>2020-01-24</td>\n",
              "      <td>Cook</td>\n",
              "      <td>Illinois</td>\n",
              "      <td>17031.0</td>\n",
              "      <td>1</td>\n",
              "      <td>0</td>\n",
              "    </tr>\n",
              "    <tr>\n",
              "      <th>4</th>\n",
              "      <td>2020-01-24</td>\n",
              "      <td>Snohomish</td>\n",
              "      <td>Washington</td>\n",
              "      <td>53061.0</td>\n",
              "      <td>1</td>\n",
              "      <td>0</td>\n",
              "    </tr>\n",
              "  </tbody>\n",
              "</table>\n",
              "</div>"
            ],
            "text/plain": [
              "        date     county       state     fips  cases  deaths\n",
              "0 2020-01-21  Snohomish  Washington  53061.0      1       0\n",
              "1 2020-01-22  Snohomish  Washington  53061.0      1       0\n",
              "2 2020-01-23  Snohomish  Washington  53061.0      1       0\n",
              "3 2020-01-24       Cook    Illinois  17031.0      1       0\n",
              "4 2020-01-24  Snohomish  Washington  53061.0      1       0"
            ]
          },
          "metadata": {
            "tags": []
          },
          "execution_count": 143
        }
      ]
    },
    {
      "cell_type": "code",
      "metadata": {
        "id": "QpoWNDUxZgSJ",
        "colab_type": "code",
        "colab": {
          "base_uri": "https://localhost:8080/",
          "height": 136
        },
        "outputId": "03dfba56-3ad6-44b5-bf7c-4c71168674f9"
      },
      "source": [
        "## ADD CODE HERE (1)\n",
        "df.nunique()"
      ],
      "execution_count": 144,
      "outputs": [
        {
          "output_type": "execute_result",
          "data": {
            "text/plain": [
              "date        234\n",
              "county     1923\n",
              "state        55\n",
              "fips       3205\n",
              "cases     16027\n",
              "deaths     2381\n",
              "dtype: int64"
            ]
          },
          "metadata": {
            "tags": []
          },
          "execution_count": 144
        }
      ]
    },
    {
      "cell_type": "code",
      "metadata": {
        "id": "n6KHjGs7RwaS",
        "colab_type": "code",
        "colab": {
          "base_uri": "https://localhost:8080/",
          "height": 51
        },
        "outputId": "a018c3d9-7e4c-44ca-8ca8-68c2b106824d"
      },
      "source": [
        "# let us get fips for 2 counties  (Bristol and Suffolk, MA)\n",
        "## fips stands for : Federal Information Processing Standards\n",
        "##- ADD CODE HERE (2)\n",
        "Bristol_fips = df.loc[lambda df: (df['county'] == 'Bristol') & (df['state'] == 'Massachusetts'),'fips'].unique()[0]\n",
        "Suffolk_fips = df.loc[lambda df: (df['county'] == 'Suffolk') & (df['state'] == 'Massachusetts'),'fips'].unique()[0]\n",
        "# Suffolk_fips = df[(df['county'] == \"Suffolk\")]\n",
        "print(\"Bristol_fips = \", Bristol_fips)\n",
        "print(\"Suffolk_fips = \", Suffolk_fips)\n",
        "# Suffolk_fips"
      ],
      "execution_count": 145,
      "outputs": [
        {
          "output_type": "stream",
          "text": [
            "Bristol_fips =  25005.0\n",
            "Suffolk_fips =  25025.0\n"
          ],
          "name": "stdout"
        }
      ]
    },
    {
      "cell_type": "code",
      "metadata": {
        "id": "xYbzk8vCR8GE",
        "colab_type": "code",
        "colab": {
          "base_uri": "https://localhost:8080/",
          "height": 235
        },
        "outputId": "3c801df1-6093-4fa7-8b36-ba2c55498f98"
      },
      "source": [
        "# ADD CODE HERE - (3)\n",
        "def get_county_stat(df, county_fip):\n",
        "  county_stats = df.loc[lambda df: (df['fips'] == county_fip),['date','county','state','cases','deaths']].set_index('date')\n",
        "  return county_stats\n",
        "get_county_stat(df,Bristol_fips).head()"
      ],
      "execution_count": 146,
      "outputs": [
        {
          "output_type": "execute_result",
          "data": {
            "text/html": [
              "<div>\n",
              "<style scoped>\n",
              "    .dataframe tbody tr th:only-of-type {\n",
              "        vertical-align: middle;\n",
              "    }\n",
              "\n",
              "    .dataframe tbody tr th {\n",
              "        vertical-align: top;\n",
              "    }\n",
              "\n",
              "    .dataframe thead th {\n",
              "        text-align: right;\n",
              "    }\n",
              "</style>\n",
              "<table border=\"1\" class=\"dataframe\">\n",
              "  <thead>\n",
              "    <tr style=\"text-align: right;\">\n",
              "      <th></th>\n",
              "      <th>county</th>\n",
              "      <th>state</th>\n",
              "      <th>cases</th>\n",
              "      <th>deaths</th>\n",
              "    </tr>\n",
              "    <tr>\n",
              "      <th>date</th>\n",
              "      <th></th>\n",
              "      <th></th>\n",
              "      <th></th>\n",
              "      <th></th>\n",
              "    </tr>\n",
              "  </thead>\n",
              "  <tbody>\n",
              "    <tr>\n",
              "      <th>2020-03-14</th>\n",
              "      <td>Bristol</td>\n",
              "      <td>Massachusetts</td>\n",
              "      <td>1</td>\n",
              "      <td>0</td>\n",
              "    </tr>\n",
              "    <tr>\n",
              "      <th>2020-03-15</th>\n",
              "      <td>Bristol</td>\n",
              "      <td>Massachusetts</td>\n",
              "      <td>1</td>\n",
              "      <td>0</td>\n",
              "    </tr>\n",
              "    <tr>\n",
              "      <th>2020-03-16</th>\n",
              "      <td>Bristol</td>\n",
              "      <td>Massachusetts</td>\n",
              "      <td>2</td>\n",
              "      <td>0</td>\n",
              "    </tr>\n",
              "    <tr>\n",
              "      <th>2020-03-17</th>\n",
              "      <td>Bristol</td>\n",
              "      <td>Massachusetts</td>\n",
              "      <td>5</td>\n",
              "      <td>0</td>\n",
              "    </tr>\n",
              "    <tr>\n",
              "      <th>2020-03-18</th>\n",
              "      <td>Bristol</td>\n",
              "      <td>Massachusetts</td>\n",
              "      <td>5</td>\n",
              "      <td>0</td>\n",
              "    </tr>\n",
              "  </tbody>\n",
              "</table>\n",
              "</div>"
            ],
            "text/plain": [
              "             county          state  cases  deaths\n",
              "date                                             \n",
              "2020-03-14  Bristol  Massachusetts      1       0\n",
              "2020-03-15  Bristol  Massachusetts      1       0\n",
              "2020-03-16  Bristol  Massachusetts      2       0\n",
              "2020-03-17  Bristol  Massachusetts      5       0\n",
              "2020-03-18  Bristol  Massachusetts      5       0"
            ]
          },
          "metadata": {
            "tags": []
          },
          "execution_count": 146
        }
      ]
    },
    {
      "cell_type": "markdown",
      "metadata": {
        "id": "ZdvAU6NsXmXZ",
        "colab_type": "text"
      },
      "source": [
        "## Explore data type"
      ]
    },
    {
      "cell_type": "code",
      "metadata": {
        "id": "SqrW8_oTXlxH",
        "colab_type": "code",
        "colab": {}
      },
      "source": [
        "df_Bristol = get_county_stat(df,25005)\n",
        "df_Suffolk = get_county_stat(df,25025)"
      ],
      "execution_count": 147,
      "outputs": []
    },
    {
      "cell_type": "code",
      "metadata": {
        "id": "pvwkK_bxZvA2",
        "colab_type": "code",
        "colab": {
          "base_uri": "https://localhost:8080/",
          "height": 370
        },
        "outputId": "b7f30b5c-4eaa-4e53-dc59-f3a440ab3814"
      },
      "source": [
        "import numpy as np\n",
        "import matplotlib.dates as mdates\n",
        "from datetime import datetime\n",
        "\n",
        "f,ax = plt.subplots(1,2,figsize=(18,6))\n",
        "# ADD CODE HERE - (4)\n",
        "ax[0].plot(df_Bristol.index, df_Bristol.cases, 'b-.', label = 'Bristol cases')\n",
        "ax[0].plot(df_Bristol.index, df_Bristol.deaths, 'y-.', label = 'Bristol deaths')\n",
        "ax[0].plot(df_Suffolk.index, df_Suffolk.cases, 'c-.', label = 'Suffolk cases')\n",
        "ax[0].plot(df_Suffolk.index, df_Suffolk.deaths, 'r-.', label = 'Suffolk deaths')\n",
        "ax[0].legend()\n",
        "ax[0].set_title('Bristol vs Suffolk')\n",
        "\n",
        "df_bristol_deaths = df_Bristol.loc[lambda df: df.index >= '2020-06-01', ['deaths']]\n",
        "df_Suffolk_deaths = df_Suffolk.loc[lambda df: df.index >= '2020-06-01', ['deaths']]\n",
        "\n",
        "ax[1].bar(df_bristol_deaths.index, df_bristol_deaths.deaths, width = 0.5, label = 'Bristol')\n",
        "ax[1].bar(df_Suffolk_deaths.index, df_Suffolk_deaths.deaths, bottom = df_bristol_deaths.deaths, width = 0.5, label = 'Suffolk')\n",
        "ax[1].legend()\n",
        "ax[1].set_title(\"Deaths Comparison\")\n",
        "f.autofmt_xdate(rotation= 90)\n"
      ],
      "execution_count": 169,
      "outputs": [
        {
          "output_type": "display_data",
          "data": {
            "image/png": "[encoded data removed]",
            "text/plain": [
              "<Figure size 1296x432 with 2 Axes>"
            ]
          },
          "metadata": {
            "tags": [],
            "needs_background": "light"
          }
        }
      ]
    },
    {
      "cell_type": "markdown",
      "metadata": {
        "id": "3Ir7AQGfSrl7",
        "colab_type": "text"
      },
      "source": [
        "## Top 10 counties by number of cases and deaths \n",
        "\n",
        "\n",
        "\n",
        "```\n",
        "# This is formatted as code\n",
        "```\n",
        "\n",
        "\n",
        "\n"
      ]
    },
    {
      "cell_type": "code",
      "metadata": {
        "id": "lYE52OMEf5-r",
        "colab_type": "code",
        "colab": {
          "base_uri": "https://localhost:8080/",
          "height": 390
        },
        "outputId": "13942d9d-1c74-483f-b66c-8401be1ffcca"
      },
      "source": [
        "# counties_cases_deaths = df.groupby(['county','state'])['cases'].sum()\n",
        "# counties_cases_deaths.head(285)\n",
        "latest_date = df['date'].max()\n",
        "counties_cases_deaths = df.loc[lambda df: df['date'] == latest_date, ['county', 'state', 'fips', 'cases', 'deaths']].set_index('county')\n",
        "counties_cases_deaths[['state','cases']].sort_values(by='cases',ascending= False).head(10)"
      ],
      "execution_count": 149,
      "outputs": [
        {
          "output_type": "execute_result",
          "data": {
            "text/html": [
              "<div>\n",
              "<style scoped>\n",
              "    .dataframe tbody tr th:only-of-type {\n",
              "        vertical-align: middle;\n",
              "    }\n",
              "\n",
              "    .dataframe tbody tr th {\n",
              "        vertical-align: top;\n",
              "    }\n",
              "\n",
              "    .dataframe thead th {\n",
              "        text-align: right;\n",
              "    }\n",
              "</style>\n",
              "<table border=\"1\" class=\"dataframe\">\n",
              "  <thead>\n",
              "    <tr style=\"text-align: right;\">\n",
              "      <th></th>\n",
              "      <th>state</th>\n",
              "      <th>cases</th>\n",
              "    </tr>\n",
              "    <tr>\n",
              "      <th>county</th>\n",
              "      <th></th>\n",
              "      <th></th>\n",
              "    </tr>\n",
              "  </thead>\n",
              "  <tbody>\n",
              "    <tr>\n",
              "      <th>Los Angeles</th>\n",
              "      <td>California</td>\n",
              "      <td>251024</td>\n",
              "    </tr>\n",
              "    <tr>\n",
              "      <th>New York City</th>\n",
              "      <td>New York</td>\n",
              "      <td>241686</td>\n",
              "    </tr>\n",
              "    <tr>\n",
              "      <th>Miami-Dade</th>\n",
              "      <td>Florida</td>\n",
              "      <td>162893</td>\n",
              "    </tr>\n",
              "    <tr>\n",
              "      <th>Maricopa</th>\n",
              "      <td>Arizona</td>\n",
              "      <td>136571</td>\n",
              "    </tr>\n",
              "    <tr>\n",
              "      <th>Cook</th>\n",
              "      <td>Illinois</td>\n",
              "      <td>132966</td>\n",
              "    </tr>\n",
              "    <tr>\n",
              "      <th>Harris</th>\n",
              "      <td>Texas</td>\n",
              "      <td>113504</td>\n",
              "    </tr>\n",
              "    <tr>\n",
              "      <th>Dallas</th>\n",
              "      <td>Texas</td>\n",
              "      <td>77948</td>\n",
              "    </tr>\n",
              "    <tr>\n",
              "      <th>Broward</th>\n",
              "      <td>Florida</td>\n",
              "      <td>73869</td>\n",
              "    </tr>\n",
              "    <tr>\n",
              "      <th>Clark</th>\n",
              "      <td>Nevada</td>\n",
              "      <td>61871</td>\n",
              "    </tr>\n",
              "    <tr>\n",
              "      <th>Riverside</th>\n",
              "      <td>California</td>\n",
              "      <td>54868</td>\n",
              "    </tr>\n",
              "  </tbody>\n",
              "</table>\n",
              "</div>"
            ],
            "text/plain": [
              "                    state   cases\n",
              "county                           \n",
              "Los Angeles    California  251024\n",
              "New York City    New York  241686\n",
              "Miami-Dade        Florida  162893\n",
              "Maricopa          Arizona  136571\n",
              "Cook             Illinois  132966\n",
              "Harris              Texas  113504\n",
              "Dallas              Texas   77948\n",
              "Broward           Florida   73869\n",
              "Clark              Nevada   61871\n",
              "Riverside      California   54868"
            ]
          },
          "metadata": {
            "tags": []
          },
          "execution_count": 149
        }
      ]
    },
    {
      "cell_type": "code",
      "metadata": {
        "id": "Hu-m8svxXf7X",
        "colab_type": "code",
        "colab": {
          "base_uri": "https://localhost:8080/",
          "height": 390
        },
        "outputId": "593dbd8f-567a-4cc8-d6eb-46b6386eef2a"
      },
      "source": [
        "counties_cases_deaths[['state','deaths']].sort_values(by = 'deaths', ascending= False).head(10)"
      ],
      "execution_count": 150,
      "outputs": [
        {
          "output_type": "execute_result",
          "data": {
            "text/html": [
              "<div>\n",
              "<style scoped>\n",
              "    .dataframe tbody tr th:only-of-type {\n",
              "        vertical-align: middle;\n",
              "    }\n",
              "\n",
              "    .dataframe tbody tr th {\n",
              "        vertical-align: top;\n",
              "    }\n",
              "\n",
              "    .dataframe thead th {\n",
              "        text-align: right;\n",
              "    }\n",
              "</style>\n",
              "<table border=\"1\" class=\"dataframe\">\n",
              "  <thead>\n",
              "    <tr style=\"text-align: right;\">\n",
              "      <th></th>\n",
              "      <th>state</th>\n",
              "      <th>deaths</th>\n",
              "    </tr>\n",
              "    <tr>\n",
              "      <th>county</th>\n",
              "      <th></th>\n",
              "      <th></th>\n",
              "    </tr>\n",
              "  </thead>\n",
              "  <tbody>\n",
              "    <tr>\n",
              "      <th>New York City</th>\n",
              "      <td>New York</td>\n",
              "      <td>23741</td>\n",
              "    </tr>\n",
              "    <tr>\n",
              "      <th>Los Angeles</th>\n",
              "      <td>California</td>\n",
              "      <td>6128</td>\n",
              "    </tr>\n",
              "    <tr>\n",
              "      <th>Cook</th>\n",
              "      <td>Illinois</td>\n",
              "      <td>5103</td>\n",
              "    </tr>\n",
              "    <tr>\n",
              "      <th>Maricopa</th>\n",
              "      <td>Arizona</td>\n",
              "      <td>3133</td>\n",
              "    </tr>\n",
              "    <tr>\n",
              "      <th>Wayne</th>\n",
              "      <td>Michigan</td>\n",
              "      <td>2941</td>\n",
              "    </tr>\n",
              "    <tr>\n",
              "      <th>Miami-Dade</th>\n",
              "      <td>Florida</td>\n",
              "      <td>2789</td>\n",
              "    </tr>\n",
              "    <tr>\n",
              "      <th>Harris</th>\n",
              "      <td>Texas</td>\n",
              "      <td>2363</td>\n",
              "    </tr>\n",
              "    <tr>\n",
              "      <th>Nassau</th>\n",
              "      <td>New York</td>\n",
              "      <td>2199</td>\n",
              "    </tr>\n",
              "    <tr>\n",
              "      <th>Essex</th>\n",
              "      <td>New Jersey</td>\n",
              "      <td>2121</td>\n",
              "    </tr>\n",
              "    <tr>\n",
              "      <th>Middlesex</th>\n",
              "      <td>Massachusetts</td>\n",
              "      <td>2094</td>\n",
              "    </tr>\n",
              "  </tbody>\n",
              "</table>\n",
              "</div>"
            ],
            "text/plain": [
              "                       state  deaths\n",
              "county                              \n",
              "New York City       New York   23741\n",
              "Los Angeles       California    6128\n",
              "Cook                Illinois    5103\n",
              "Maricopa             Arizona    3133\n",
              "Wayne               Michigan    2941\n",
              "Miami-Dade           Florida    2789\n",
              "Harris                 Texas    2363\n",
              "Nassau              New York    2199\n",
              "Essex             New Jersey    2121\n",
              "Middlesex      Massachusetts    2094"
            ]
          },
          "metadata": {
            "tags": []
          },
          "execution_count": 150
        }
      ]
    },
    {
      "cell_type": "markdown",
      "metadata": {
        "id": "aHvTcmdfgy38",
        "colab_type": "text"
      },
      "source": [
        "## Death rate Per FIPS "
      ]
    },
    {
      "cell_type": "code",
      "metadata": {
        "id": "9fNijuO8R9Hx",
        "colab_type": "code",
        "colab": {}
      },
      "source": [
        "counties_cases_deaths['death_rate'] = (counties_cases_deaths['deaths']/counties_cases_deaths['cases']) *100"
      ],
      "execution_count": 151,
      "outputs": []
    },
    {
      "cell_type": "code",
      "metadata": {
        "id": "1lJmC-FEhhY-",
        "colab_type": "code",
        "colab": {
          "base_uri": "https://localhost:8080/",
          "height": 450
        },
        "outputId": "453f776e-66b8-4a9a-be6f-95172882d66b"
      },
      "source": [
        "counties_cases_deaths[['fips','death_rate']]"
      ],
      "execution_count": 152,
      "outputs": [
        {
          "output_type": "execute_result",
          "data": {
            "text/html": [
              "<div>\n",
              "<style scoped>\n",
              "    .dataframe tbody tr th:only-of-type {\n",
              "        vertical-align: middle;\n",
              "    }\n",
              "\n",
              "    .dataframe tbody tr th {\n",
              "        vertical-align: top;\n",
              "    }\n",
              "\n",
              "    .dataframe thead th {\n",
              "        text-align: right;\n",
              "    }\n",
              "</style>\n",
              "<table border=\"1\" class=\"dataframe\">\n",
              "  <thead>\n",
              "    <tr style=\"text-align: right;\">\n",
              "      <th></th>\n",
              "      <th>fips</th>\n",
              "      <th>death_rate</th>\n",
              "    </tr>\n",
              "    <tr>\n",
              "      <th>county</th>\n",
              "      <th></th>\n",
              "      <th></th>\n",
              "    </tr>\n",
              "  </thead>\n",
              "  <tbody>\n",
              "    <tr>\n",
              "      <th>Autauga</th>\n",
              "      <td>1001.0</td>\n",
              "      <td>1.554404</td>\n",
              "    </tr>\n",
              "    <tr>\n",
              "      <th>Baldwin</th>\n",
              "      <td>1003.0</td>\n",
              "      <td>0.951790</td>\n",
              "    </tr>\n",
              "    <tr>\n",
              "      <th>Barbour</th>\n",
              "      <td>1005.0</td>\n",
              "      <td>0.891720</td>\n",
              "    </tr>\n",
              "    <tr>\n",
              "      <th>Bibb</th>\n",
              "      <td>1007.0</td>\n",
              "      <td>1.515152</td>\n",
              "    </tr>\n",
              "    <tr>\n",
              "      <th>Blount</th>\n",
              "      <td>1009.0</td>\n",
              "      <td>0.839161</td>\n",
              "    </tr>\n",
              "    <tr>\n",
              "      <th>...</th>\n",
              "      <td>...</td>\n",
              "      <td>...</td>\n",
              "    </tr>\n",
              "    <tr>\n",
              "      <th>Sweetwater</th>\n",
              "      <td>56037.0</td>\n",
              "      <td>0.626959</td>\n",
              "    </tr>\n",
              "    <tr>\n",
              "      <th>Teton</th>\n",
              "      <td>56039.0</td>\n",
              "      <td>0.220751</td>\n",
              "    </tr>\n",
              "    <tr>\n",
              "      <th>Uinta</th>\n",
              "      <td>56041.0</td>\n",
              "      <td>0.645161</td>\n",
              "    </tr>\n",
              "    <tr>\n",
              "      <th>Washakie</th>\n",
              "      <td>56043.0</td>\n",
              "      <td>5.454545</td>\n",
              "    </tr>\n",
              "    <tr>\n",
              "      <th>Weston</th>\n",
              "      <td>56045.0</td>\n",
              "      <td>0.000000</td>\n",
              "    </tr>\n",
              "  </tbody>\n",
              "</table>\n",
              "<p>3237 rows × 2 columns</p>\n",
              "</div>"
            ],
            "text/plain": [
              "               fips  death_rate\n",
              "county                         \n",
              "Autauga      1001.0    1.554404\n",
              "Baldwin      1003.0    0.951790\n",
              "Barbour      1005.0    0.891720\n",
              "Bibb         1007.0    1.515152\n",
              "Blount       1009.0    0.839161\n",
              "...             ...         ...\n",
              "Sweetwater  56037.0    0.626959\n",
              "Teton       56039.0    0.220751\n",
              "Uinta       56041.0    0.645161\n",
              "Washakie    56043.0    5.454545\n",
              "Weston      56045.0    0.000000\n",
              "\n",
              "[3237 rows x 2 columns]"
            ]
          },
          "metadata": {
            "tags": []
          },
          "execution_count": 152
        }
      ]
    },
    {
      "cell_type": "markdown",
      "metadata": {
        "id": "FqTGKtk5hQ-I",
        "colab_type": "text"
      },
      "source": [
        "## <font color = red> Bonus Point</font>\n",
        "\n",
        "### A function that makes \"Folium Choropleth Map\" for Weekly Cases, Weekly Deaths and Weekly Mortality Rate </font>\n",
        "\n",
        "ALL COUNTIES\n",
        "\n",
        "<br>\n",
        "\n",
        "### def Folium_Choropleth(type = 'cases',date=''):\n",
        "\n",
        "<br>\n",
        "\n",
        "## Due for Bonus point : Friday (09/11/2020 11:59pm)"
      ]
    },
    {
      "cell_type": "code",
      "metadata": {
        "id": "Qi9EZlbmhPh2",
        "colab_type": "code",
        "colab": {}
      },
      "source": [
        "import folium\n",
        "from folium import plugins\n",
        "from datetime import timedelta\n",
        "import json"
      ],
      "execution_count": 178,
      "outputs": []
    },
    {
      "cell_type": "code",
      "metadata": {
        "id": "QM_OR4VxSqEN",
        "colab_type": "code",
        "colab": {
          "base_uri": "https://localhost:8080/",
          "height": 129
        },
        "outputId": "b5150246-03a8-4468-edc5-efaa12d93125"
      },
      "source": [
        "def Folium_Choropleth(type,date_str):\n",
        "  dt = datetime.strptime(date_str, '%Y-%m-%d')\n",
        "  seven_date_before = dt - timedelta(days = 7)\n",
        "  start = dt - timedelta(days=dt.weekday()) - timedelta(days=1)\n",
        "  end = start + timedelta(days=7)\n",
        "\n",
        "  # Perform weekly selection on data\n",
        "  weekly_df = df[(df['date'] >= start) & (df['date'] <= end)]\n",
        "  weekly_df.sort_values(by=['fips', 'date'], inplace=True)\n",
        "\n",
        "  # Convert FLoat type fips into str without decimals\n",
        "  weekly_df['fips'] = weekly_df['fips'].astype(int)\n",
        "  weekly_df['fips'] = weekly_df['fips'].astype(str)\n",
        "\n",
        "  # Perfom Aggregation for weekly_data\n",
        "  weekly_df['case_diffs'] = weekly_df.groupby('fips')['cases'].diff()\n",
        "  weekly_df['case_diffs'] = weekly_df['case_diffs'].fillna(0)\n",
        "  weekly_df[weekly_df['case_diffs'] < 0] = 0\n",
        "  weekly_df['death_diffs'] = weekly_df.groupby('fips')['deaths'].diff()\n",
        "  weekly_df['death_diffs'] = weekly_df['death_diffs'].fillna(0)\n",
        "  print(weekly_df[weekly_df['death_diffs'] < 0])\n",
        "  weekly_df[weekly_df['death_diffs'] < 0] = 0\n",
        "  print(weekly_df[weekly_df['death_diffs'] < 0])\n",
        "  weekly_df = weekly_df.groupby('fips').sum()\n",
        "\n",
        "  ## Daily Cases Plot\n",
        "  # weekly_df = df[df['date'] == dt]\n",
        "  # weekly_df = weekly_df[['fips','cases']]\n",
        "  # weekly_df['fips'] = weekly_df['fips'].fillna(0)\n",
        "  # print(weekly_df.head(10))\n",
        "  \n",
        "\n",
        "\n",
        "  county_geo = r'https://raw.githubusercontent.com/python-visualization/folium/master/tests/us-counties.json'\n",
        "\n",
        "  m = folium.Map(\n",
        "      location=[37, -102],\n",
        "      zoom_start=3\n",
        "  )\n",
        "\n",
        "  if type == 'cases':\n",
        "    weekly_df = pd.DataFrame(data = {'fips' : weekly_df.index, 'cases' : weekly_df['cases']})\n",
        "    # weekly_df.reset_index()\n",
        "    \n",
        "    folium.Choropleth(\n",
        "      geo_data=county_geo,\n",
        "      name='choropleth',\n",
        "      data=weekly_df,\n",
        "      columns=['fips', 'cases'],\n",
        "      key_on='feature.id',\n",
        "      fill_color='OrRd',\n",
        "      fill_opacity=0.7,\n",
        "      line_opacity=0.2,\n",
        "      legend_name='Weekly Cases'\n",
        "    ).add_to(m)\n",
        "  elif type == 'deaths':\n",
        "    weekly_df = pd.DataFrame(data = {'fips' : weekly_df.index, 'deaths' : weekly_df['cases']})\n",
        "    weekly_df.reset_index()\n",
        "    weekly_df.set_index('fips')\n",
        "    legend_name = 'Deaths'\n",
        "  elif type == 'mortality':\n",
        "    weekly_df = pd.DataFrame(data = {'fips' : weekly_df.index, 'deaths'*100/'cases' : weekly_df['cases']})\n",
        "    weekly_df.reset_index()\n",
        "    weekly_df.set_index('fips')\n",
        "    legend_name = 'Cases'\n",
        " \n",
        "\n",
        "  \n",
        "  folium.LayerControl().add_to(m)\n",
        "  return m\n",
        "\n",
        "Folium_Choropleth('cases','2020-09-09')"
      ],
      "execution_count": 182,
      "outputs": [
        {
          "output_type": "error",
          "ename": "SyntaxError",
          "evalue": "ignored",
          "traceback": [
            "\u001b[0;36m  File \u001b[0;32m\"<ipython-input-182-6987919e91a6>\"\u001b[0;36m, line \u001b[0;32m15\u001b[0m\n\u001b[0;31m    Perform quick\u001b[0m\n\u001b[0m                ^\u001b[0m\n\u001b[0;31mSyntaxError\u001b[0m\u001b[0;31m:\u001b[0m invalid syntax\n"
          ]
        }
      ]
    },
    {
      "cell_type": "code",
      "metadata": {
        "id": "296nY_KHhOc0",
        "colab_type": "code",
        "colab": {}
      },
      "source": [
        "\n",
        "      \n",
        "\n",
        "\n",
        "    # elif type == 'deaths':\n",
        "      # weekly_df['deaths_diff'] = np.nan\n",
        "      # weekly_df.diff[idx] = weekly_df.deaths[idx].diff()"
      ],
      "execution_count": 155,
      "outputs": []
    }
  ]
}